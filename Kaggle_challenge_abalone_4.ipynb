{
 "cells": [
  {
   "cell_type": "code",
   "execution_count": 7,
   "metadata": {},
   "outputs": [],
   "source": [
    "import pandas as pd\n",
    "import numpy as np\n",
    "from sklearn.preprocessing import LabelEncoder\n",
    "from sklearn.metrics import mean_squared_log_error, make_scorer\n",
    "from sklearn.model_selection import train_test_split, GridSearchCV\n",
    "from scipy.stats import randint\n",
    "from sklearn.neighbors import KNeighborsRegressor\n",
    "from sklearn.preprocessing import StandardScaler"
   ]
  },
  {
   "cell_type": "code",
   "execution_count": 5,
   "metadata": {},
   "outputs": [],
   "source": [
    "data = pd.read_csv('train.csv')\n",
    "test = pd.read_csv('test.csv')\n",
    "test_ids = test['id']\n",
    "\n",
    "Label_encoder = LabelEncoder()\n",
    "\n",
    "data['Sex_encoded'] = Label_encoder.fit_transform(data['Sex'])\n",
    "data.drop('Sex', axis=1, inplace=True)\n",
    "\n",
    "test['Sex_encoded'] = Label_encoder.fit_transform(test['Sex'])\n",
    "test.drop('Sex', axis=1, inplace=True)\n",
    "\n",
    "y = data['Rings']\n",
    "X = data.drop('Rings', axis = 1)\n",
    "\n",
    "X_train, X_val, y_train, y_val = train_test_split(X, y, test_size=0.2, random_state=42)"
   ]
  },
  {
   "cell_type": "code",
   "execution_count": 8,
   "metadata": {},
   "outputs": [
    {
     "name": "stdout",
     "output_type": "stream",
     "text": [
      "Best Parameters for KNN Regressor: {'n_neighbors': 20, 'p': 2, 'weights': 'distance'}\n",
      "Best Score (Negative Mean Squared Error) for KNN Regressor: -3.8132395980800817\n"
     ]
    }
   ],
   "source": [
    "# Scale the features for KNN\n",
    "scaler = StandardScaler()\n",
    "X_train_scaled = scaler.fit_transform(X_train)\n",
    "X_val_scaled = scaler.transform(X_val)  # Scale validation set as well\n",
    "\n",
    "# Create KNeighborsRegressor\n",
    "knn_regressor = KNeighborsRegressor()\n",
    "\n",
    "# Define parameter grid for GridSearchCV\n",
    "param_grid_knn = {\n",
    "    'n_neighbors': [3, 5, 10, 20],  # Number of neighbors to consider\n",
    "    'weights': ['uniform', 'distance'],  # Weighting scheme for neighbors\n",
    "    'p': [1, 2]  # Power parameter for the Minkowski distance (1 for Manhattan, 2 for Euclidean)\n",
    "}\n",
    "\n",
    "# Create GridSearchCV object\n",
    "grid_search_knn = GridSearchCV(estimator=knn_regressor, param_grid=param_grid_knn, \n",
    "                                scoring='neg_mean_squared_error', cv=5)\n",
    "\n",
    "# Perform grid search\n",
    "grid_search_knn.fit(X_train_scaled, y_train)\n",
    "\n",
    "# Get best estimator\n",
    "best_knn_regressor = grid_search_knn.best_estimator_\n",
    "\n",
    "# Print best parameters and score\n",
    "print(\"Best Parameters for KNN Regressor:\", grid_search_knn.best_params_)\n",
    "print(\"Best Score (Negative Mean Squared Error) for KNN Regressor:\", grid_search_knn.best_score_)\n"
   ]
  },
  {
   "cell_type": "code",
   "execution_count": 9,
   "metadata": {},
   "outputs": [
    {
     "name": "stderr",
     "output_type": "stream",
     "text": [
      "c:\\Users\\Beheerder\\anaconda3\\envs\\block_c_new\\lib\\site-packages\\sklearn\\base.py:486: UserWarning: X has feature names, but KNeighborsRegressor was fitted without feature names\n",
      "  warnings.warn(\n"
     ]
    },
    {
     "name": "stdout",
     "output_type": "stream",
     "text": [
      "RMSLE Score: 0.09439367283560107\n"
     ]
    }
   ],
   "source": [
    "predictions = best_knn_regressor.predict(X_val)\n",
    "\n",
    "# Ensure predictions are non-negative\n",
    "predictions = np.clip(predictions, 0, None)\n",
    "\n",
    "# Calculate RMSLE\n",
    "rmsle = np.sqrt(mean_squared_log_error(np.log1p(predictions), np.log1p(y_val)))\n",
    "print(\"RMSLE Score:\", rmsle)"
   ]
  },
  {
   "cell_type": "code",
   "execution_count": 10,
   "metadata": {},
   "outputs": [
    {
     "name": "stderr",
     "output_type": "stream",
     "text": [
      "c:\\Users\\Beheerder\\anaconda3\\envs\\block_c_new\\lib\\site-packages\\sklearn\\base.py:486: UserWarning: X has feature names, but KNeighborsRegressor was fitted without feature names\n",
      "  warnings.warn(\n"
     ]
    }
   ],
   "source": [
    "submission_preds = best_knn_regressor.predict(test)\n",
    "\n",
    "# Ensure submission predictions are non-negative\n",
    "submission_preds = np.clip(submission_preds, 0, None)\n",
    "\n",
    "# Round the predictions and convert them to integers\n",
    "submission_preds_rounded = np.round(submission_preds).astype(int)"
   ]
  },
  {
   "cell_type": "code",
   "execution_count": 11,
   "metadata": {},
   "outputs": [],
   "source": [
    "df = pd.DataFrame({'id': test_ids.values, \n",
    "                   'Rings': submission_preds_rounded\n",
    "                   })"
   ]
  },
  {
   "cell_type": "code",
   "execution_count": 14,
   "metadata": {},
   "outputs": [],
   "source": [
    "df.to_csv('submission4.csv', index=False)"
   ]
  },
  {
   "cell_type": "code",
   "execution_count": 13,
   "metadata": {},
   "outputs": [
    {
     "name": "stdout",
     "output_type": "stream",
     "text": [
      "No negative target values.\n"
     ]
    }
   ],
   "source": [
    "# Check if any target value is negative\n",
    "negative_targets_exist = (df['Rings'] < 0).any()\n",
    "\n",
    "if negative_targets_exist:\n",
    "    print(\"Negative target values exist.\")\n",
    "else:\n",
    "    print(\"No negative target values.\")\n"
   ]
  }
 ],
 "metadata": {
  "kernelspec": {
   "display_name": "block_c_new",
   "language": "python",
   "name": "python3"
  },
  "language_info": {
   "codemirror_mode": {
    "name": "ipython",
    "version": 3
   },
   "file_extension": ".py",
   "mimetype": "text/x-python",
   "name": "python",
   "nbconvert_exporter": "python",
   "pygments_lexer": "ipython3",
   "version": "3.10.8"
  }
 },
 "nbformat": 4,
 "nbformat_minor": 2
}
