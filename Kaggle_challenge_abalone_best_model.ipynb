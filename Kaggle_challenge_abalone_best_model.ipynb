{
 "cells": [
  {
   "cell_type": "code",
   "execution_count": 7,
   "metadata": {},
   "outputs": [],
   "source": [
    "import pandas as pd\n",
    "import numpy as np\n",
    "from sklearn.preprocessing import LabelEncoder\n",
    "from sklearn.metrics import mean_squared_log_error, make_scorer\n",
    "from sklearn.model_selection import train_test_split, RandomizedSearchCV\n",
    "from sklearn.ensemble import RandomForestRegressor\n",
    "from scipy.stats import randint"
   ]
  },
  {
   "cell_type": "code",
   "execution_count": 4,
   "metadata": {},
   "outputs": [],
   "source": [
    "data = pd.read_csv('train.csv')\n",
    "test = pd.read_csv('test.csv')\n",
    "test_ids = test['id']\n",
    "\n",
    "Label_encoder = LabelEncoder()\n",
    "\n",
    "data['Sex_encoded'] = Label_encoder.fit_transform(data['Sex'])\n",
    "data.drop('Sex', axis=1, inplace=True)\n",
    "\n",
    "test['Sex_encoded'] = Label_encoder.fit_transform(test['Sex'])\n",
    "test.drop('Sex', axis=1, inplace=True)\n",
    "\n",
    "y = data['Rings']\n",
    "X = data.drop('Rings', axis = 1)\n",
    "\n",
    "X_train, X_val, y_train, y_val = train_test_split(X, y, test_size=0.2, random_state=42)"
   ]
  },
  {
   "cell_type": "code",
   "execution_count": 8,
   "metadata": {},
   "outputs": [
    {
     "name": "stdout",
     "output_type": "stream",
     "text": [
      "Best Parameters for Random Forest (Randomized Search): {'bootstrap': True, 'max_depth': 12, 'min_samples_leaf': 4, 'min_samples_split': 10, 'n_estimators': 180}\n",
      "Best Score (RMSLE) for Random Forest (Randomized Search): 0.15097594885090923\n"
     ]
    }
   ],
   "source": [
    "# Define custom scorer for RMSLE\n",
    "def rmsle_score(y_true, y_pred):\n",
    "    rmsle = np.sqrt(mean_squared_log_error(y_true, y_pred))\n",
    "    return -rmsle  # Negate RMSLE to maximize (since GridSearchCV maximizes by default)\n",
    "\n",
    "# Make RMSLE scorer\n",
    "rmsle_scorer = make_scorer(rmsle_score)\n",
    "\n",
    "# Create RandomForestRegressor\n",
    "rf_regressor = RandomForestRegressor(random_state=42)\n",
    "\n",
    "# Define parameter distributions for RandomizedSearchCV\n",
    "param_dist_rf = {\n",
    "    'n_estimators': randint(50, 200),\n",
    "    'max_depth': [None] + list(range(10, 21)),\n",
    "    'min_samples_split': randint(2, 11),\n",
    "    'min_samples_leaf': randint(1, 5),\n",
    "    'bootstrap': [True, False]\n",
    "}\n",
    "\n",
    "# Create RandomizedSearchCV object\n",
    "random_search_rf = RandomizedSearchCV(estimator=rf_regressor, param_distributions=param_dist_rf, \n",
    "                                      n_iter=20, scoring=rmsle_scorer, cv=5, random_state=42)\n",
    "\n",
    "# Perform randomized search\n",
    "random_search_rf.fit(X_train, y_train)\n",
    "\n",
    "# Get best estimator\n",
    "best_rf_classifier_random = random_search_rf.best_estimator_\n",
    "\n",
    "# Print best parameters and score\n",
    "print(\"Best Parameters for Random Forest (Randomized Search):\", random_search_rf.best_params_)\n",
    "print(\"Best Score (RMSLE) for Random Forest (Randomized Search):\", -random_search_rf.best_score_)\n"
   ]
  },
  {
   "cell_type": "code",
   "execution_count": 10,
   "metadata": {},
   "outputs": [
    {
     "name": "stdout",
     "output_type": "stream",
     "text": [
      "RMSLE Score: 0.04623680404693483\n"
     ]
    }
   ],
   "source": [
    "predictions = best_rf_classifier_random.predict(X_val)\n",
    "\n",
    "# Ensure predictions are non-negative\n",
    "predictions = np.clip(predictions, 0, None)\n",
    "\n",
    "# Calculate RMSLE\n",
    "rmsle = np.sqrt(mean_squared_log_error(np.log1p(predictions), np.log1p(y_val)))\n",
    "print(\"RMSLE Score:\", rmsle)"
   ]
  },
  {
   "cell_type": "code",
   "execution_count": 11,
   "metadata": {},
   "outputs": [],
   "source": [
    "submission_preds = best_rf_classifier_random.predict(test)\n",
    "\n",
    "# Ensure submission predictions are non-negative\n",
    "submission_preds = np.clip(submission_preds, 0, None)\n",
    "\n",
    "# Round the predictions and convert them to integers\n",
    "submission_preds_rounded = np.round(submission_preds).astype(int)"
   ]
  },
  {
   "cell_type": "code",
   "execution_count": 12,
   "metadata": {},
   "outputs": [],
   "source": [
    "df = pd.DataFrame({'id': test_ids.values, \n",
    "                   'Rings': submission_preds_rounded\n",
    "                   })"
   ]
  },
  {
   "cell_type": "code",
   "execution_count": 17,
   "metadata": {},
   "outputs": [],
   "source": [
    "df.to_csv('submission2.csv', index=False)"
   ]
  },
  {
   "cell_type": "code",
   "execution_count": 16,
   "metadata": {},
   "outputs": [
    {
     "name": "stdout",
     "output_type": "stream",
     "text": [
      "No negative target values.\n"
     ]
    }
   ],
   "source": [
    "# Check if any target value is negative\n",
    "negative_targets_exist = (df['Rings'] < 0).any()\n",
    "\n",
    "if negative_targets_exist:\n",
    "    print(\"Negative target values exist.\")\n",
    "else:\n",
    "    print(\"No negative target values.\")\n"
   ]
  }
 ],
 "metadata": {
  "kernelspec": {
   "display_name": "block_c_new",
   "language": "python",
   "name": "python3"
  },
  "language_info": {
   "codemirror_mode": {
    "name": "ipython",
    "version": 3
   },
   "file_extension": ".py",
   "mimetype": "text/x-python",
   "name": "python",
   "nbconvert_exporter": "python",
   "pygments_lexer": "ipython3",
   "version": "3.10.8"
  }
 },
 "nbformat": 4,
 "nbformat_minor": 2
}
